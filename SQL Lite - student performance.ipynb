{
 "cells": [
  {
   "cell_type": "code",
   "execution_count": 246,
   "id": "69d57db9-bd52-47e4-abe0-4e0bcbad8710",
   "metadata": {},
   "outputs": [],
   "source": [
    "import numpy as np\n",
    "import pandas as pd\n",
    "import warnings\n",
    "warnings.filterwarnings(\"ignore\")\n",
    "pd.set_option('display.max_colwidth', None)\n",
    "\n",
    "import sqlite3\n",
    "import random\n",
    "from faker import Faker\n",
    "from flask import Flask, request, jsonify\n",
    "from datetime import datetime"
   ]
  },
  {
   "cell_type": "code",
   "execution_count": null,
   "id": "beefafb4-56ba-45da-90c6-3e6df64ddb45",
   "metadata": {},
   "outputs": [],
   "source": []
  },
  {
   "cell_type": "markdown",
   "id": "e66ab260-2327-4fd0-bb74-14852d2c6600",
   "metadata": {},
   "source": [
    "##### Creating database"
   ]
  },
  {
   "cell_type": "code",
   "execution_count": 248,
   "id": "f4c66488-8be5-4dd5-b823-7198669932c5",
   "metadata": {},
   "outputs": [],
   "source": [
    "conn = sqlite3.connect('student_performance.db', timeout=10)\n",
    "cursor = conn.cursor()"
   ]
  },
  {
   "cell_type": "markdown",
   "id": "d5f98b66-5198-4697-9e43-21e4d254158a",
   "metadata": {},
   "source": [
    "##### Creating tables"
   ]
  },
  {
   "cell_type": "code",
   "execution_count": 250,
   "id": "5656b683-757e-4c83-837e-e8bab9c460f1",
   "metadata": {},
   "outputs": [
    {
     "name": "stdout",
     "output_type": "stream",
     "text": [
      "Tables in the database: [('students',), ('subjects',), ('grades',)]\n"
     ]
    }
   ],
   "source": [
    "cursor.execute('''\n",
    "    CREATE TABLE IF NOT EXISTS students (\n",
    "        id INTEGER PRIMARY KEY AUTOINCREMENT,\n",
    "        name TEXT,\n",
    "        age INTEGER\n",
    "    )\n",
    "''')\n",
    "\n",
    "cursor.execute('''\n",
    "    CREATE TABLE IF NOT EXISTS subjects (\n",
    "        id INTEGER PRIMARY KEY AUTOINCREMENT,\n",
    "        subject_name TEXT ,\n",
    "        department TEXT\n",
    ")\n",
    "''')\n",
    "\n",
    "cursor.execute('''\n",
    "    CREATE TABLE IF NOT EXISTS grades(\n",
    "        id INTEGER PRIMARY KEY,\n",
    "        student_id INTEGER,\n",
    "        subject_id INTEGER,\n",
    "        grade TEXT,\n",
    "        date DATE,\n",
    "        FOREIGN KEY (student_id) REFERENCES students(id),\n",
    "        FOREIGN KEY (subject_id) REFERENCES subjects(id)\n",
    ")\n",
    "''')\n",
    "\n",
    "conn.commit()\n",
    "\n",
    "cursor.execute(\"SELECT name FROM sqlite_master WHERE type='table';\")\n",
    "tables = cursor.fetchall()\n",
    "print(\"Tables in the database:\", tables)\n",
    "\n",
    "cursor.close()\n",
    "conn.close()"
   ]
  },
  {
   "cell_type": "markdown",
   "id": "8e99c44c-dad5-4468-b331-c96bfc2c1d84",
   "metadata": {},
   "source": [
    "##### Generating tables data"
   ]
  },
  {
   "cell_type": "code",
   "execution_count": 252,
   "id": "a71f768a-3e4c-45d9-a6b4-08c9d7636041",
   "metadata": {},
   "outputs": [],
   "source": [
    "faker = Faker()\n",
    "\n",
    "students = []\n",
    "students_no = 2000\n",
    "\n",
    "\n",
    "for i in range(1, students_no + 1):\n",
    "    name = faker.name()\n",
    "    student = {\n",
    "       # \"id\": i,\n",
    "        \"name\" : name,\n",
    "        \"age\": random.choice([None, random.randint(15, 25)]) if random.random() < 0.8 else random.randint(30, 80),\n",
    "    }\n",
    "    students.append(student)"
   ]
  },
  {
   "cell_type": "code",
   "execution_count": 253,
   "id": "7170dc35-3bc3-4386-b0e3-0539b3f00676",
   "metadata": {},
   "outputs": [],
   "source": [
    "subjects = []\n",
    "students_no = 2000\n",
    "subject_names = [\"Mathematics\", \"Physics\", \"Chemistry\", \"Biology\", \"Geography\", \"Computer Science\",\n",
    "                 \"History of Arts\", \"Philosophy\", \"Human of Arts\", \"Music\", \"Literature\", \"Creative Writing\",\n",
    "                \"Accounting\", \"Economics\", \"Business Studies\", \"Finance\", \"Entrepreneurship\", \"International Business\"]\n",
    "departments = [\"Science\", \"Arts\", \"Commerce\"] \n",
    "\n",
    "for i, subject_name in enumerate(subject_names, start=1):\n",
    "    subject = {\n",
    "       # \"id\": i, \n",
    "        \"subject_name\": subject_name,\n",
    "        \"department\": random.choice(departments),\n",
    "    }\n",
    "    subjects.append(subject)"
   ]
  },
  {
   "cell_type": "code",
   "execution_count": 254,
   "id": "dc2e70c2-ef5f-4a1b-97ec-e2d2f7ff9628",
   "metadata": {},
   "outputs": [],
   "source": [
    "grades = []\n",
    "grades_list = [\"A\", \"B\", \"C\", \"D\", \"F\", None]\n",
    "\n",
    "for i in range(1, students_no + 1):\n",
    "    grade = {\n",
    "        #\"id\": i,\n",
    "        \"student_id\": random.randint(1, students_no + 1),\n",
    "        \"subject_id\": random.randint(1, len(subjects)),\n",
    "        \"grade\": random.choice(grades_list) if random.random() > 0.05 else f\"Grade-{i}\",  \n",
    "        \"date\": None if random.random() > 0.95 else f\"{random.randint(2010, 2025)}-{random.randint(1, 12):02}-{random.randint(1, 28):02}\"\n",
    "    }\n",
    "    grades.append(grade)"
   ]
  },
  {
   "cell_type": "code",
   "execution_count": 255,
   "id": "8d6770f5-b554-40cf-a01c-5bb01cc12dae",
   "metadata": {},
   "outputs": [],
   "source": [
    "students_df = pd.DataFrame(students)\n",
    "subjects_df = pd.DataFrame(subjects)\n",
    "grades_df = pd.DataFrame(grades)"
   ]
  },
  {
   "cell_type": "markdown",
   "id": "176eb9ac-4027-484d-b282-23be1784eace",
   "metadata": {},
   "source": [
    "*Replace NaN with None*"
   ]
  },
  {
   "cell_type": "code",
   "execution_count": 257,
   "id": "f9c80358-5619-47f4-b9f0-8efff4641c46",
   "metadata": {},
   "outputs": [],
   "source": [
    "grades_df['grade'] = grades_df['grade'].where(grades_df['grade'].notna(), None)\n",
    "students_df['age'] = students_df['age'].where(students_df['age'].notna(), None)"
   ]
  },
  {
   "cell_type": "code",
   "execution_count": 258,
   "id": "c5661f61-0942-4819-9d1e-3f6001ba0761",
   "metadata": {},
   "outputs": [],
   "source": [
    "students_df.to_csv(\"students_dirty.csv\", index=False)\n",
    "subjects_df.to_csv(\"subjects_dirty.csv\", index=False)\n",
    "grades_df.to_csv(\"grades_dirty.csv\", index=False)"
   ]
  },
  {
   "cell_type": "code",
   "execution_count": 259,
   "id": "dea89134-2289-4428-8ea9-ef5504d0ee33",
   "metadata": {},
   "outputs": [],
   "source": [
    "students = pd.read_csv(\"students_dirty.csv\")\n",
    "subjects = pd.read_csv(\"subjects_dirty.csv\")\n",
    "grades = pd.read_csv(\"grades_dirty.csv\")"
   ]
  },
  {
   "cell_type": "markdown",
   "id": "d5f4b36b-6b93-4946-a23d-67e9477321f5",
   "metadata": {},
   "source": [
    "##### Inserting the values into sqlite table"
   ]
  },
  {
   "cell_type": "code",
   "execution_count": 261,
   "id": "280bb80c-3fe7-4186-a640-d3711ca9a941",
   "metadata": {},
   "outputs": [],
   "source": [
    "conn = sqlite3.connect('student_performance.db', timeout=10)\n",
    "cursor = conn.cursor()\n",
    "\n",
    "for _, row in students.iterrows():\n",
    "    cursor.execute('''\n",
    "        INSERT INTO students (name, age) \n",
    "        VALUES (?, ?)\n",
    "    ''', (row['name'], row['age']))\n",
    "conn.commit()"
   ]
  },
  {
   "cell_type": "code",
   "execution_count": 262,
   "id": "dd36b9c7-c5c2-4b69-b01d-e2b9a59ee461",
   "metadata": {},
   "outputs": [],
   "source": [
    "for _, row in subjects.iterrows():\n",
    "    cursor.execute('''\n",
    "        INSERT INTO subjects (subject_name, department)\n",
    "        VALUES (?, ?)\n",
    "    ''', (row['subject_name'], row['department']))\n",
    "conn.commit()"
   ]
  },
  {
   "cell_type": "code",
   "execution_count": 263,
   "id": "012916ee-320f-4aba-a09c-f4a87d839ad0",
   "metadata": {},
   "outputs": [],
   "source": [
    "for _, row in grades.iterrows():\n",
    "    cursor.execute('''\n",
    "        INSERT INTO grades (student_id, subject_id, grade, date)\n",
    "        VALUES (?, ?, ?,?)\n",
    "    ''', (row['student_id'], row['subject_id'], row['grade'], row['date']))\n",
    "conn.commit()"
   ]
  },
  {
   "cell_type": "code",
   "execution_count": 264,
   "id": "33fe853f-9828-4e45-81ed-7812e7745e6c",
   "metadata": {},
   "outputs": [],
   "source": [
    "cursor.close()\n",
    "conn.close()"
   ]
  },
  {
   "cell_type": "markdown",
   "id": "e704906f-c158-4bbe-90cf-38fcac437209",
   "metadata": {},
   "source": [
    "##### EDA"
   ]
  },
  {
   "cell_type": "code",
   "execution_count": 266,
   "id": "d460820c-89e8-4275-80b6-4326648568fa",
   "metadata": {},
   "outputs": [],
   "source": [
    "conn = sqlite3.connect('student_performance.db', timeout=10)\n",
    "cursor = conn.cursor()"
   ]
  },
  {
   "cell_type": "markdown",
   "id": "12c16b19-f2db-43a7-aaa2-8be296885405",
   "metadata": {},
   "source": [
    "##### Average grade"
   ]
  },
  {
   "cell_type": "code",
   "execution_count": 268,
   "id": "f1179715-901e-4115-bb4b-3b2bcce47968",
   "metadata": {},
   "outputs": [
    {
     "data": {
      "text/html": [
       "<div>\n",
       "<style scoped>\n",
       "    .dataframe tbody tr th:only-of-type {\n",
       "        vertical-align: middle;\n",
       "    }\n",
       "\n",
       "    .dataframe tbody tr th {\n",
       "        vertical-align: top;\n",
       "    }\n",
       "\n",
       "    .dataframe thead th {\n",
       "        text-align: right;\n",
       "    }\n",
       "</style>\n",
       "<table border=\"1\" class=\"dataframe\">\n",
       "  <thead>\n",
       "    <tr style=\"text-align: right;\">\n",
       "      <th></th>\n",
       "      <th>average_grade</th>\n",
       "    </tr>\n",
       "  </thead>\n",
       "  <tbody>\n",
       "    <tr>\n",
       "      <th>0</th>\n",
       "      <td>2.00998</td>\n",
       "    </tr>\n",
       "  </tbody>\n",
       "</table>\n",
       "</div>"
      ],
      "text/plain": [
       "   average_grade\n",
       "0        2.00998"
      ]
     },
     "execution_count": 268,
     "metadata": {},
     "output_type": "execute_result"
    }
   ],
   "source": [
    "cursor.execute('''\n",
    "    SELECT \n",
    "        AVG(\n",
    "            CASE grade\n",
    "                WHEN 'A' THEN 4\n",
    "                WHEN 'B' THEN 3\n",
    "                WHEN 'C' THEN 2\n",
    "                WHEN 'D' THEN 1\n",
    "                WHEN 'F' THEN 0\n",
    "                ELSE NULL\n",
    "            END\n",
    "        ) AS average_grade\n",
    "        FROM grades;\n",
    "''')\n",
    "\n",
    "results1 = cursor.fetchall()\n",
    "\n",
    "avg = ['average_grade']\n",
    "df_avg = pd.DataFrame(results1, columns=avg)\n",
    "df_avg"
   ]
  },
  {
   "cell_type": "markdown",
   "id": "6e87eb19-2913-44a9-a705-1653ccfaf4ca",
   "metadata": {},
   "source": [
    "##### Most and Least Popular Subjects"
   ]
  },
  {
   "cell_type": "code",
   "execution_count": 270,
   "id": "2bb51ed2-9be0-4a6f-955e-534dab8b2508",
   "metadata": {},
   "outputs": [
    {
     "data": {
      "text/html": [
       "<div>\n",
       "<style scoped>\n",
       "    .dataframe tbody tr th:only-of-type {\n",
       "        vertical-align: middle;\n",
       "    }\n",
       "\n",
       "    .dataframe tbody tr th {\n",
       "        vertical-align: top;\n",
       "    }\n",
       "\n",
       "    .dataframe thead th {\n",
       "        text-align: right;\n",
       "    }\n",
       "</style>\n",
       "<table border=\"1\" class=\"dataframe\">\n",
       "  <thead>\n",
       "    <tr style=\"text-align: right;\">\n",
       "      <th></th>\n",
       "      <th>subject_name</th>\n",
       "      <th>enrollment_count</th>\n",
       "    </tr>\n",
       "  </thead>\n",
       "  <tbody>\n",
       "    <tr>\n",
       "      <th>0</th>\n",
       "      <td>Chemistry</td>\n",
       "      <td>2095</td>\n",
       "    </tr>\n",
       "    <tr>\n",
       "      <th>1</th>\n",
       "      <td>History of Arts</td>\n",
       "      <td>1635</td>\n",
       "    </tr>\n",
       "    <tr>\n",
       "      <th>2</th>\n",
       "      <td>Economics</td>\n",
       "      <td>1493</td>\n",
       "    </tr>\n",
       "    <tr>\n",
       "      <th>3</th>\n",
       "      <td>International Business</td>\n",
       "      <td>1378</td>\n",
       "    </tr>\n",
       "    <tr>\n",
       "      <th>4</th>\n",
       "      <td>Music</td>\n",
       "      <td>718</td>\n",
       "    </tr>\n",
       "  </tbody>\n",
       "</table>\n",
       "</div>"
      ],
      "text/plain": [
       "             subject_name  enrollment_count\n",
       "0               Chemistry              2095\n",
       "1         History of Arts              1635\n",
       "2               Economics              1493\n",
       "3  International Business              1378\n",
       "4                   Music               718"
      ]
     },
     "execution_count": 270,
     "metadata": {},
     "output_type": "execute_result"
    }
   ],
   "source": [
    "cursor.execute('''\n",
    "    SELECT subject_name, COUNT(*) as enrollment_count\n",
    "    FROM grades\n",
    "    JOIN subjects ON subjects.id = grades.subject_id\n",
    "    GROUP BY subject_name \n",
    "    ORDER BY enrollment_count DESC\n",
    "    LIMIT 5;\n",
    "''')\n",
    "\n",
    "results2 = cursor.fetchall()\n",
    "\n",
    "popular = ['subject_name', 'enrollment_count']\n",
    "df_pop = pd.DataFrame(results2, columns=popular)\n",
    "df_pop"
   ]
  },
  {
   "cell_type": "markdown",
   "id": "7b91e540-98e1-4866-a072-7d801caeddde",
   "metadata": {},
   "source": [
    "##### Department-wise Student Distribution"
   ]
  },
  {
   "cell_type": "code",
   "execution_count": 272,
   "id": "b5ec8ce7-0002-46c4-9d50-cf39633446a1",
   "metadata": {},
   "outputs": [
    {
     "data": {
      "text/html": [
       "<div>\n",
       "<style scoped>\n",
       "    .dataframe tbody tr th:only-of-type {\n",
       "        vertical-align: middle;\n",
       "    }\n",
       "\n",
       "    .dataframe tbody tr th {\n",
       "        vertical-align: top;\n",
       "    }\n",
       "\n",
       "    .dataframe thead th {\n",
       "        text-align: right;\n",
       "    }\n",
       "</style>\n",
       "<table border=\"1\" class=\"dataframe\">\n",
       "  <thead>\n",
       "    <tr style=\"text-align: right;\">\n",
       "      <th></th>\n",
       "      <th>department</th>\n",
       "      <th>student_count</th>\n",
       "    </tr>\n",
       "  </thead>\n",
       "  <tbody>\n",
       "    <tr>\n",
       "      <th>0</th>\n",
       "      <td>None</td>\n",
       "      <td>4190</td>\n",
       "    </tr>\n",
       "    <tr>\n",
       "      <th>1</th>\n",
       "      <td>Science</td>\n",
       "      <td>3396</td>\n",
       "    </tr>\n",
       "    <tr>\n",
       "      <th>2</th>\n",
       "      <td>Commerce</td>\n",
       "      <td>2997</td>\n",
       "    </tr>\n",
       "    <tr>\n",
       "      <th>3</th>\n",
       "      <td>Arts</td>\n",
       "      <td>1417</td>\n",
       "    </tr>\n",
       "  </tbody>\n",
       "</table>\n",
       "</div>"
      ],
      "text/plain": [
       "  department  student_count\n",
       "0       None           4190\n",
       "1    Science           3396\n",
       "2   Commerce           2997\n",
       "3       Arts           1417"
      ]
     },
     "execution_count": 272,
     "metadata": {},
     "output_type": "execute_result"
    }
   ],
   "source": [
    "cursor.execute('''\n",
    "    SELECT \n",
    "    department, \n",
    "    COUNT(*) AS student_count\n",
    "    FROM subjects\n",
    "    JOIN grades ON grades.subject_id = subjects.id\n",
    "    GROUP BY department\n",
    "    ORDER BY student_count DESC;\n",
    "''')\n",
    "\n",
    "results3 = cursor.fetchall()\n",
    "\n",
    "department = ['department', 'student_count']\n",
    "df_dep = pd.DataFrame(results3, columns=department)\n",
    "df_dep"
   ]
  },
  {
   "cell_type": "markdown",
   "id": "659304a9-0f15-4e62-8bc0-59228915180b",
   "metadata": {},
   "source": [
    "##### Top Scores in Each Subject"
   ]
  },
  {
   "cell_type": "code",
   "execution_count": 274,
   "id": "7c4eee5d-468d-4173-bc0e-a26b9df804d4",
   "metadata": {},
   "outputs": [
    {
     "data": {
      "text/html": [
       "<div>\n",
       "<style scoped>\n",
       "    .dataframe tbody tr th:only-of-type {\n",
       "        vertical-align: middle;\n",
       "    }\n",
       "\n",
       "    .dataframe tbody tr th {\n",
       "        vertical-align: top;\n",
       "    }\n",
       "\n",
       "    .dataframe thead th {\n",
       "        text-align: right;\n",
       "    }\n",
       "</style>\n",
       "<table border=\"1\" class=\"dataframe\">\n",
       "  <thead>\n",
       "    <tr style=\"text-align: right;\">\n",
       "      <th></th>\n",
       "      <th>subject_name</th>\n",
       "      <th>A_grades_count</th>\n",
       "    </tr>\n",
       "  </thead>\n",
       "  <tbody>\n",
       "    <tr>\n",
       "      <th>0</th>\n",
       "      <td>Business Studies</td>\n",
       "      <td>116</td>\n",
       "    </tr>\n",
       "    <tr>\n",
       "      <th>1</th>\n",
       "      <td>Chemistry</td>\n",
       "      <td>341</td>\n",
       "    </tr>\n",
       "    <tr>\n",
       "      <th>2</th>\n",
       "      <td>Economics</td>\n",
       "      <td>252</td>\n",
       "    </tr>\n",
       "    <tr>\n",
       "      <th>3</th>\n",
       "      <td>Finance</td>\n",
       "      <td>80</td>\n",
       "    </tr>\n",
       "    <tr>\n",
       "      <th>4</th>\n",
       "      <td>History of Arts</td>\n",
       "      <td>300</td>\n",
       "    </tr>\n",
       "    <tr>\n",
       "      <th>5</th>\n",
       "      <td>Human of Arts</td>\n",
       "      <td>113</td>\n",
       "    </tr>\n",
       "    <tr>\n",
       "      <th>6</th>\n",
       "      <td>International Business</td>\n",
       "      <td>218</td>\n",
       "    </tr>\n",
       "    <tr>\n",
       "      <th>7</th>\n",
       "      <td>LiteratureCreative Writing</td>\n",
       "      <td>97</td>\n",
       "    </tr>\n",
       "  </tbody>\n",
       "</table>\n",
       "</div>"
      ],
      "text/plain": [
       "                 subject_name  A_grades_count\n",
       "0            Business Studies             116\n",
       "1                   Chemistry             341\n",
       "2                   Economics             252\n",
       "3                     Finance              80\n",
       "4             History of Arts             300\n",
       "5               Human of Arts             113\n",
       "6      International Business             218\n",
       "7  LiteratureCreative Writing              97"
      ]
     },
     "execution_count": 274,
     "metadata": {},
     "output_type": "execute_result"
    }
   ],
   "source": [
    "cursor.execute('''\n",
    "    SELECT \n",
    "        subjects.subject_name, \n",
    "        COUNT(grades.grade) AS A_grades_count\n",
    "    FROM grades\n",
    "    JOIN subjects ON grades.subject_id = subjects.id\n",
    "    WHERE grades.grade = 'A'\n",
    "    GROUP BY subjects.subject_name\n",
    "    ORDER BY subjects.subject_name\n",
    "    LIMIT 8;\n",
    "''')\n",
    "\n",
    "results4 = cursor.fetchall()\n",
    "\n",
    "scores = ['subject_name', 'A_grades_count']\n",
    "df_scores = pd.DataFrame(results4, columns=scores)\n",
    "df_scores"
   ]
  },
  {
   "cell_type": "markdown",
   "id": "663a9e2f-ca9f-4019-aeb2-fe7a552290e5",
   "metadata": {},
   "source": [
    "##### Grade Trends"
   ]
  },
  {
   "cell_type": "code",
   "execution_count": 276,
   "id": "aa089eef-49f4-40a1-88cd-69052b283e31",
   "metadata": {},
   "outputs": [
    {
     "data": {
      "text/html": [
       "<div>\n",
       "<style scoped>\n",
       "    .dataframe tbody tr th:only-of-type {\n",
       "        vertical-align: middle;\n",
       "    }\n",
       "\n",
       "    .dataframe tbody tr th {\n",
       "        vertical-align: top;\n",
       "    }\n",
       "\n",
       "    .dataframe thead th {\n",
       "        text-align: right;\n",
       "    }\n",
       "</style>\n",
       "<table border=\"1\" class=\"dataframe\">\n",
       "  <thead>\n",
       "    <tr style=\"text-align: right;\">\n",
       "      <th></th>\n",
       "      <th>year</th>\n",
       "      <th>grade</th>\n",
       "      <th>count</th>\n",
       "    </tr>\n",
       "  </thead>\n",
       "  <tbody>\n",
       "    <tr>\n",
       "      <th>0</th>\n",
       "      <td>2010</td>\n",
       "      <td>None</td>\n",
       "      <td>141</td>\n",
       "    </tr>\n",
       "    <tr>\n",
       "      <th>1</th>\n",
       "      <td>2010</td>\n",
       "      <td>A</td>\n",
       "      <td>143</td>\n",
       "    </tr>\n",
       "    <tr>\n",
       "      <th>2</th>\n",
       "      <td>2010</td>\n",
       "      <td>B</td>\n",
       "      <td>155</td>\n",
       "    </tr>\n",
       "    <tr>\n",
       "      <th>3</th>\n",
       "      <td>2010</td>\n",
       "      <td>C</td>\n",
       "      <td>162</td>\n",
       "    </tr>\n",
       "    <tr>\n",
       "      <th>4</th>\n",
       "      <td>2010</td>\n",
       "      <td>D</td>\n",
       "      <td>133</td>\n",
       "    </tr>\n",
       "    <tr>\n",
       "      <th>...</th>\n",
       "      <td>...</td>\n",
       "      <td>...</td>\n",
       "      <td>...</td>\n",
       "    </tr>\n",
       "    <tr>\n",
       "      <th>863</th>\n",
       "      <td>2025</td>\n",
       "      <td>Grade-744</td>\n",
       "      <td>1</td>\n",
       "    </tr>\n",
       "    <tr>\n",
       "      <th>864</th>\n",
       "      <td>2025</td>\n",
       "      <td>Grade-780</td>\n",
       "      <td>1</td>\n",
       "    </tr>\n",
       "    <tr>\n",
       "      <th>865</th>\n",
       "      <td>2025</td>\n",
       "      <td>Grade-850</td>\n",
       "      <td>1</td>\n",
       "    </tr>\n",
       "    <tr>\n",
       "      <th>866</th>\n",
       "      <td>2025</td>\n",
       "      <td>Grade-890</td>\n",
       "      <td>1</td>\n",
       "    </tr>\n",
       "    <tr>\n",
       "      <th>867</th>\n",
       "      <td>2025</td>\n",
       "      <td>Grade-898</td>\n",
       "      <td>1</td>\n",
       "    </tr>\n",
       "  </tbody>\n",
       "</table>\n",
       "<p>868 rows × 3 columns</p>\n",
       "</div>"
      ],
      "text/plain": [
       "     year      grade  count\n",
       "0    2010       None    141\n",
       "1    2010          A    143\n",
       "2    2010          B    155\n",
       "3    2010          C    162\n",
       "4    2010          D    133\n",
       "..    ...        ...    ...\n",
       "863  2025  Grade-744      1\n",
       "864  2025  Grade-780      1\n",
       "865  2025  Grade-850      1\n",
       "866  2025  Grade-890      1\n",
       "867  2025  Grade-898      1\n",
       "\n",
       "[868 rows x 3 columns]"
      ]
     },
     "execution_count": 276,
     "metadata": {},
     "output_type": "execute_result"
    }
   ],
   "source": [
    "cursor.execute('''\n",
    "    SELECT STRFTIME('%Y', date) AS year, grade, COUNT(*) AS count\n",
    "    FROM grades\n",
    "    WHERE date IS NOT NULL\n",
    "    GROUP BY year, grade\n",
    "    ORDER BY year, grade;\n",
    "''')\n",
    "\n",
    "results5 = cursor.fetchall()\n",
    "\n",
    "trends = ['year', 'grade', 'count']\n",
    "df_trends = pd.DataFrame(results5, columns=trends)\n",
    "df_trends"
   ]
  },
  {
   "cell_type": "markdown",
   "id": "11259fb0-8d9a-42d8-a9ef-43e55a920fd7",
   "metadata": {},
   "source": [
    "##### Older Students’ Performance"
   ]
  },
  {
   "cell_type": "code",
   "execution_count": 282,
   "id": "1221258d-ed8d-4d5b-a3ee-09eac7d45d43",
   "metadata": {},
   "outputs": [
    {
     "data": {
      "text/html": [
       "<div>\n",
       "<style scoped>\n",
       "    .dataframe tbody tr th:only-of-type {\n",
       "        vertical-align: middle;\n",
       "    }\n",
       "\n",
       "    .dataframe tbody tr th {\n",
       "        vertical-align: top;\n",
       "    }\n",
       "\n",
       "    .dataframe thead th {\n",
       "        text-align: right;\n",
       "    }\n",
       "</style>\n",
       "<table border=\"1\" class=\"dataframe\">\n",
       "  <thead>\n",
       "    <tr style=\"text-align: right;\">\n",
       "      <th></th>\n",
       "      <th>average_grade</th>\n",
       "    </tr>\n",
       "  </thead>\n",
       "  <tbody>\n",
       "    <tr>\n",
       "      <th>0</th>\n",
       "      <td>2.040147</td>\n",
       "    </tr>\n",
       "  </tbody>\n",
       "</table>\n",
       "</div>"
      ],
      "text/plain": [
       "   average_grade\n",
       "0       2.040147"
      ]
     },
     "execution_count": 282,
     "metadata": {},
     "output_type": "execute_result"
    }
   ],
   "source": [
    "cursor.execute('''\n",
    "    SELECT \n",
    "    AVG(\n",
    "        CASE grade\n",
    "            WHEN 'A' THEN 4\n",
    "            WHEN 'B' THEN 3\n",
    "            WHEN 'C' THEN 2\n",
    "            WHEN 'D' THEN 1\n",
    "            WHEN 'F' THEN 0\n",
    "            ELSE NULL\n",
    "        END\n",
    "    ) AS average_grade\n",
    "    FROM grades\n",
    "    JOIN students ON grades.student_id = students.id\n",
    "    WHERE students.age > 30;\n",
    "    ''')\n",
    "\n",
    "results7 = cursor.fetchall()\n",
    "\n",
    "above30 = ['average_grade']\n",
    "df_above30 = pd.DataFrame(results7, columns=above30)\n",
    "df_above30"
   ]
  },
  {
   "cell_type": "code",
   "execution_count": null,
   "id": "1f401bee-3f93-4f8c-839d-3eee71fd7ba7",
   "metadata": {},
   "outputs": [],
   "source": []
  }
 ],
 "metadata": {
  "kernelspec": {
   "display_name": "Python (sql_student)",
   "language": "python",
   "name": "sql_student"
  },
  "language_info": {
   "codemirror_mode": {
    "name": "ipython",
    "version": 3
   },
   "file_extension": ".py",
   "mimetype": "text/x-python",
   "name": "python",
   "nbconvert_exporter": "python",
   "pygments_lexer": "ipython3",
   "version": "3.12.8"
  }
 },
 "nbformat": 4,
 "nbformat_minor": 5
}
