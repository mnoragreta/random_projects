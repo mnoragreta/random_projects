{
 "cells": [
  {
   "cell_type": "markdown",
   "id": "1b3ae9ae-e597-4151-81f9-6bfc0e179d36",
   "metadata": {},
   "source": [
    "In a recent report, I encountered data involving multiple currencies, and to standardize the values and facilitate analysis, I converted all amounts into EUR. To achieve this, I implemented an API-based solution that retrieved real-time exchange rates, ensuring consistent and accurate currency conversion for all order values."
   ]
  },
  {
   "cell_type": "code",
   "execution_count": 118,
   "id": "ee9deb2b-aab2-4e47-8893-ea03c9c07da0",
   "metadata": {},
   "outputs": [],
   "source": [
    "import pandas as pd\n",
    "pd.set_option('display.float_format', '{:.0f}'.format)\n",
    "import numpy as np\n",
    "import matplotlib.pyplot as plt\n",
    "import requests\n",
    "\n",
    "import hashlib\n",
    "import random\n",
    "from datetime import datetime, timedelta"
   ]
  },
  {
   "cell_type": "code",
   "execution_count": 119,
   "id": "169c9124-262b-44ce-bce8-850105ee82d0",
   "metadata": {},
   "outputs": [],
   "source": [
    "df = pd.read_excel(r'C:\\Users\\lily\\Desktop\\IT alapok privát\\PORTFOLIO PROJECT\\Currency conversion\\GRIN04 - PO - HCx category filtered_Aggregate Data 4_Nov_2024_CURR_EMEA_Q1Q2_filtered.xlsx')"
   ]
  },
  {
   "cell_type": "markdown",
   "id": "61a21cf4-7477-4f8d-92d0-2f663dbb6c82",
   "metadata": {},
   "source": [
    "#### Data Anonymization"
   ]
  },
  {
   "cell_type": "markdown",
   "id": "7df63c2c-1ee7-4c94-bd17-52df9e6cb534",
   "metadata": {},
   "source": [
    "Replace Identifiers with Pseudonyms"
   ]
  },
  {
   "cell_type": "code",
   "execution_count": 122,
   "id": "3a1bbdd0-b52b-4e6e-8f29-63df2bfb6b63",
   "metadata": {},
   "outputs": [],
   "source": [
    "df['Order Number'] = df['Order Number'].apply(lambda x: hashlib.md5(str(x).encode()).hexdigest())"
   ]
  },
  {
   "cell_type": "markdown",
   "id": "290ddda5-919a-4742-a380-9f4f566453eb",
   "metadata": {},
   "source": [
    "Modify Numerical Values"
   ]
  },
  {
   "cell_type": "code",
   "execution_count": 124,
   "id": "62777db8-00ea-4313-bb6e-c5707610e03f",
   "metadata": {},
   "outputs": [],
   "source": [
    "df['Total Order Value'] = df['Total Order Value'] * np.random.uniform(0.8, 1.2)"
   ]
  },
  {
   "cell_type": "markdown",
   "id": "28ed5f38-85c2-4cf1-917f-0eb65e62b8ff",
   "metadata": {},
   "source": [
    "Mask Text Columns"
   ]
  },
  {
   "cell_type": "code",
   "execution_count": 126,
   "id": "8c4b6eb3-5b49-4882-94fc-b7f8d02875bc",
   "metadata": {},
   "outputs": [],
   "source": [
    "df['Region'] = df['Region'].apply(lambda x: f\"Region-{random.randint(1, 100)}\")"
   ]
  },
  {
   "cell_type": "markdown",
   "id": "fd8637f6-524e-436f-b5f7-f596cd379b68",
   "metadata": {},
   "source": [
    "Replace Dates with Relative or Random Dates"
   ]
  },
  {
   "cell_type": "code",
   "execution_count": 128,
   "id": "b1381064-2e30-4616-9a6a-08078a3c36db",
   "metadata": {},
   "outputs": [],
   "source": [
    "start_date = datetime(2005, 1, 1)\n",
    "end_date = datetime(2010, 1, 1)\n",
    "\n",
    "df['Invoice Received Date'] = df['Invoice Received Date'].apply(\n",
    "    lambda x: start_date + timedelta(days=random.randint(0, (end_date - start_date).days))\n",
    ")"
   ]
  },
  {
   "cell_type": "markdown",
   "id": "3cce6f2c-7492-4720-946b-f4becbd2d301",
   "metadata": {},
   "source": [
    "Drop Unnecessary Columns"
   ]
  },
  {
   "cell_type": "code",
   "execution_count": 130,
   "id": "7ffc5900-5f02-485a-b8b0-c912e21b5a44",
   "metadata": {},
   "outputs": [],
   "source": [
    "df = df.drop(columns=['Country', 'Status', 'Invoice Type'])"
   ]
  },
  {
   "cell_type": "code",
   "execution_count": 131,
   "id": "461eb9f8-67ea-4ca9-b208-a9217deb7b3b",
   "metadata": {},
   "outputs": [
    {
     "data": {
      "text/html": [
       "<div>\n",
       "<style scoped>\n",
       "    .dataframe tbody tr th:only-of-type {\n",
       "        vertical-align: middle;\n",
       "    }\n",
       "\n",
       "    .dataframe tbody tr th {\n",
       "        vertical-align: top;\n",
       "    }\n",
       "\n",
       "    .dataframe thead th {\n",
       "        text-align: right;\n",
       "    }\n",
       "</style>\n",
       "<table border=\"1\" class=\"dataframe\">\n",
       "  <thead>\n",
       "    <tr style=\"text-align: right;\">\n",
       "      <th></th>\n",
       "      <th>Region</th>\n",
       "      <th>Order Number</th>\n",
       "      <th>Total Order Value</th>\n",
       "      <th>Invoice Received Date</th>\n",
       "      <th>Currency</th>\n",
       "    </tr>\n",
       "  </thead>\n",
       "  <tbody>\n",
       "    <tr>\n",
       "      <th>0</th>\n",
       "      <td>Region-20</td>\n",
       "      <td>e9ceb346cf13e845ef576bd60af1fa47</td>\n",
       "      <td>40540986</td>\n",
       "      <td>2006-04-18</td>\n",
       "      <td>HUF</td>\n",
       "    </tr>\n",
       "    <tr>\n",
       "      <th>1</th>\n",
       "      <td>Region-85</td>\n",
       "      <td>e9ceb346cf13e845ef576bd60af1fa47</td>\n",
       "      <td>40540986</td>\n",
       "      <td>2009-09-10</td>\n",
       "      <td>HUF</td>\n",
       "    </tr>\n",
       "    <tr>\n",
       "      <th>2</th>\n",
       "      <td>Region-60</td>\n",
       "      <td>e9ceb346cf13e845ef576bd60af1fa47</td>\n",
       "      <td>40540986</td>\n",
       "      <td>2008-01-25</td>\n",
       "      <td>HUF</td>\n",
       "    </tr>\n",
       "    <tr>\n",
       "      <th>3</th>\n",
       "      <td>Region-95</td>\n",
       "      <td>e9ceb346cf13e845ef576bd60af1fa47</td>\n",
       "      <td>40540986</td>\n",
       "      <td>2005-12-02</td>\n",
       "      <td>HUF</td>\n",
       "    </tr>\n",
       "    <tr>\n",
       "      <th>4</th>\n",
       "      <td>Region-72</td>\n",
       "      <td>e9ceb346cf13e845ef576bd60af1fa47</td>\n",
       "      <td>40540986</td>\n",
       "      <td>2009-02-11</td>\n",
       "      <td>HUF</td>\n",
       "    </tr>\n",
       "  </tbody>\n",
       "</table>\n",
       "</div>"
      ],
      "text/plain": [
       "      Region                      Order Number  Total Order Value  \\\n",
       "0  Region-20  e9ceb346cf13e845ef576bd60af1fa47           40540986   \n",
       "1  Region-85  e9ceb346cf13e845ef576bd60af1fa47           40540986   \n",
       "2  Region-60  e9ceb346cf13e845ef576bd60af1fa47           40540986   \n",
       "3  Region-95  e9ceb346cf13e845ef576bd60af1fa47           40540986   \n",
       "4  Region-72  e9ceb346cf13e845ef576bd60af1fa47           40540986   \n",
       "\n",
       "  Invoice Received Date Currency  \n",
       "0            2006-04-18      HUF  \n",
       "1            2009-09-10      HUF  \n",
       "2            2008-01-25      HUF  \n",
       "3            2005-12-02      HUF  \n",
       "4            2009-02-11      HUF  "
      ]
     },
     "execution_count": 131,
     "metadata": {},
     "output_type": "execute_result"
    }
   ],
   "source": [
    "df.head()"
   ]
  },
  {
   "cell_type": "code",
   "execution_count": 132,
   "id": "9fd8d189-b88e-4ecc-bba3-ecb27163b2b9",
   "metadata": {},
   "outputs": [],
   "source": [
    "df = df.dropna(subset=[\"Currency\"])"
   ]
  },
  {
   "cell_type": "code",
   "execution_count": 133,
   "id": "2c4fc395-2c3f-4dc4-81d7-cd8100f7d5f3",
   "metadata": {},
   "outputs": [
    {
     "data": {
      "text/plain": [
       "array(['HUF', 'EUR', 'TRY', 'NOK', 'KES', 'JPY', 'USD', 'NGN', 'KRW',\n",
       "       'GBP', 'CZK', 'CHF', 'RON', 'SEK', 'RSD', 'DKK', 'PLN', 'HKD',\n",
       "       'MAD', 'AUD', 'ZAR', 'TWD', 'CAD', 'ILS', 'AED', 'MXN', 'KWD',\n",
       "       'GHS', 'SGD', 'NZD', 'QAR', 'SAR'], dtype=object)"
      ]
     },
     "execution_count": 133,
     "metadata": {},
     "output_type": "execute_result"
    }
   ],
   "source": [
    "currencies = df[\"Currency\"].unique()\n",
    "currencies"
   ]
  },
  {
   "cell_type": "markdown",
   "id": "587e04f5-25d7-446c-ada7-03170f25a0a5",
   "metadata": {},
   "source": [
    "#### Currency conversion using API"
   ]
  },
  {
   "cell_type": "code",
   "execution_count": 136,
   "id": "14f1af6e-7fbb-4242-8ac9-481c9b140fdd",
   "metadata": {},
   "outputs": [],
   "source": [
    "API_KEY = \"f92a63f246ce6cfee8218f42\" \n",
    "BASE_URL = f\"https://v6.exchangerate-api.com/v6/{API_KEY}/latest/EUR\"\n",
    "\n",
    "response = requests.get(BASE_URL)\n",
    "if response.status_code == 200:\n",
    "    rates_data = response.json()\n",
    "    exchange_rates = rates_data.get(\"conversion_rates\", {})\n",
    "else:\n",
    "    print(f\"Error fetching exchange rates: {response.status_code} - {response.text}\")\n",
    "    exchange_rates = {}"
   ]
  },
  {
   "cell_type": "code",
   "execution_count": 137,
   "id": "eb8fbac7-4e73-4d44-9cb1-516f217d18a1",
   "metadata": {},
   "outputs": [],
   "source": [
    "def convert_to_eur(row):\n",
    "    rate = exchange_rates.get(row['Currency'], None)\n",
    "    if rate is not None and rate > 0: \n",
    "        return row['Total Order Value'] / rate\n",
    "    else:\n",
    "        return None  "
   ]
  },
  {
   "cell_type": "code",
   "execution_count": 138,
   "id": "c6e40fd1-cc83-47a4-9651-0e00d1f562ef",
   "metadata": {},
   "outputs": [],
   "source": [
    "df['Total Order Value in EUR'] = df.apply(convert_to_eur, axis=1)"
   ]
  },
  {
   "cell_type": "code",
   "execution_count": 139,
   "id": "97446097-26fc-4f35-b4ab-9048924d365b",
   "metadata": {},
   "outputs": [
    {
     "data": {
      "text/html": [
       "<div>\n",
       "<style scoped>\n",
       "    .dataframe tbody tr th:only-of-type {\n",
       "        vertical-align: middle;\n",
       "    }\n",
       "\n",
       "    .dataframe tbody tr th {\n",
       "        vertical-align: top;\n",
       "    }\n",
       "\n",
       "    .dataframe thead th {\n",
       "        text-align: right;\n",
       "    }\n",
       "</style>\n",
       "<table border=\"1\" class=\"dataframe\">\n",
       "  <thead>\n",
       "    <tr style=\"text-align: right;\">\n",
       "      <th></th>\n",
       "      <th>Region</th>\n",
       "      <th>Order Number</th>\n",
       "      <th>Total Order Value</th>\n",
       "      <th>Invoice Received Date</th>\n",
       "      <th>Currency</th>\n",
       "      <th>Total Order Value in EUR</th>\n",
       "    </tr>\n",
       "  </thead>\n",
       "  <tbody>\n",
       "    <tr>\n",
       "      <th>0</th>\n",
       "      <td>Region-20</td>\n",
       "      <td>e9ceb346cf13e845ef576bd60af1fa47</td>\n",
       "      <td>40540986</td>\n",
       "      <td>2006-04-18</td>\n",
       "      <td>HUF</td>\n",
       "      <td>98661</td>\n",
       "    </tr>\n",
       "    <tr>\n",
       "      <th>1</th>\n",
       "      <td>Region-85</td>\n",
       "      <td>e9ceb346cf13e845ef576bd60af1fa47</td>\n",
       "      <td>40540986</td>\n",
       "      <td>2009-09-10</td>\n",
       "      <td>HUF</td>\n",
       "      <td>98661</td>\n",
       "    </tr>\n",
       "    <tr>\n",
       "      <th>2</th>\n",
       "      <td>Region-60</td>\n",
       "      <td>e9ceb346cf13e845ef576bd60af1fa47</td>\n",
       "      <td>40540986</td>\n",
       "      <td>2008-01-25</td>\n",
       "      <td>HUF</td>\n",
       "      <td>98661</td>\n",
       "    </tr>\n",
       "    <tr>\n",
       "      <th>3</th>\n",
       "      <td>Region-95</td>\n",
       "      <td>e9ceb346cf13e845ef576bd60af1fa47</td>\n",
       "      <td>40540986</td>\n",
       "      <td>2005-12-02</td>\n",
       "      <td>HUF</td>\n",
       "      <td>98661</td>\n",
       "    </tr>\n",
       "    <tr>\n",
       "      <th>4</th>\n",
       "      <td>Region-72</td>\n",
       "      <td>e9ceb346cf13e845ef576bd60af1fa47</td>\n",
       "      <td>40540986</td>\n",
       "      <td>2009-02-11</td>\n",
       "      <td>HUF</td>\n",
       "      <td>98661</td>\n",
       "    </tr>\n",
       "  </tbody>\n",
       "</table>\n",
       "</div>"
      ],
      "text/plain": [
       "      Region                      Order Number  Total Order Value  \\\n",
       "0  Region-20  e9ceb346cf13e845ef576bd60af1fa47           40540986   \n",
       "1  Region-85  e9ceb346cf13e845ef576bd60af1fa47           40540986   \n",
       "2  Region-60  e9ceb346cf13e845ef576bd60af1fa47           40540986   \n",
       "3  Region-95  e9ceb346cf13e845ef576bd60af1fa47           40540986   \n",
       "4  Region-72  e9ceb346cf13e845ef576bd60af1fa47           40540986   \n",
       "\n",
       "  Invoice Received Date Currency  Total Order Value in EUR  \n",
       "0            2006-04-18      HUF                     98661  \n",
       "1            2009-09-10      HUF                     98661  \n",
       "2            2008-01-25      HUF                     98661  \n",
       "3            2005-12-02      HUF                     98661  \n",
       "4            2009-02-11      HUF                     98661  "
      ]
     },
     "execution_count": 139,
     "metadata": {},
     "output_type": "execute_result"
    }
   ],
   "source": [
    "df.head()"
   ]
  },
  {
   "cell_type": "code",
   "execution_count": 140,
   "id": "7b28f0a9-d235-411f-8e38-524bede45474",
   "metadata": {},
   "outputs": [],
   "source": [
    "df.to_excel(\"converted_invoices.xlsx\", index=False)"
   ]
  },
  {
   "cell_type": "code",
   "execution_count": null,
   "id": "d571e447-d04b-46dc-b5c6-22369d68bfc6",
   "metadata": {},
   "outputs": [],
   "source": []
  },
  {
   "cell_type": "code",
   "execution_count": null,
   "id": "5d642f0c-c8ee-443c-9104-9f280bda6f91",
   "metadata": {},
   "outputs": [],
   "source": []
  }
 ],
 "metadata": {
  "kernelspec": {
   "display_name": "Python (myenv)",
   "language": "python",
   "name": "myenv"
  },
  "language_info": {
   "codemirror_mode": {
    "name": "ipython",
    "version": 3
   },
   "file_extension": ".py",
   "mimetype": "text/x-python",
   "name": "python",
   "nbconvert_exporter": "python",
   "pygments_lexer": "ipython3",
   "version": "3.8.18"
  }
 },
 "nbformat": 4,
 "nbformat_minor": 5
}
